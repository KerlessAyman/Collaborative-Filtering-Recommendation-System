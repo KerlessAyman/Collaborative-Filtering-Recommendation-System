{
 "cells": [
  {
   "cell_type": "code",
   "execution_count": 1,
   "id": "5f7d0f1f",
   "metadata": {},
   "outputs": [],
   "source": [
    "import pandas as pd\n",
    "from sklearn.metrics.pairwise import cosine_similarity\n",
    "import numpy as np"
   ]
  },
  {
   "cell_type": "code",
   "execution_count": 3,
   "id": "80131cc1",
   "metadata": {},
   "outputs": [
    {
     "data": {
      "text/html": [
       "<div>\n",
       "<style scoped>\n",
       "    .dataframe tbody tr th:only-of-type {\n",
       "        vertical-align: middle;\n",
       "    }\n",
       "\n",
       "    .dataframe tbody tr th {\n",
       "        vertical-align: top;\n",
       "    }\n",
       "\n",
       "    .dataframe thead th {\n",
       "        text-align: right;\n",
       "    }\n",
       "</style>\n",
       "<table border=\"1\" class=\"dataframe\">\n",
       "  <thead>\n",
       "    <tr style=\"text-align: right;\">\n",
       "      <th></th>\n",
       "      <th>user_id</th>\n",
       "      <th>item_id</th>\n",
       "      <th>rating</th>\n",
       "      <th>timestamp</th>\n",
       "    </tr>\n",
       "  </thead>\n",
       "  <tbody>\n",
       "    <tr>\n",
       "      <th>0</th>\n",
       "      <td>196</td>\n",
       "      <td>242</td>\n",
       "      <td>3</td>\n",
       "      <td>881250949</td>\n",
       "    </tr>\n",
       "    <tr>\n",
       "      <th>1</th>\n",
       "      <td>186</td>\n",
       "      <td>302</td>\n",
       "      <td>3</td>\n",
       "      <td>891717742</td>\n",
       "    </tr>\n",
       "    <tr>\n",
       "      <th>2</th>\n",
       "      <td>22</td>\n",
       "      <td>377</td>\n",
       "      <td>1</td>\n",
       "      <td>878887116</td>\n",
       "    </tr>\n",
       "    <tr>\n",
       "      <th>3</th>\n",
       "      <td>244</td>\n",
       "      <td>51</td>\n",
       "      <td>2</td>\n",
       "      <td>880606923</td>\n",
       "    </tr>\n",
       "    <tr>\n",
       "      <th>4</th>\n",
       "      <td>166</td>\n",
       "      <td>346</td>\n",
       "      <td>1</td>\n",
       "      <td>886397596</td>\n",
       "    </tr>\n",
       "  </tbody>\n",
       "</table>\n",
       "</div>"
      ],
      "text/plain": [
       "   user_id  item_id  rating  timestamp\n",
       "0      196      242       3  881250949\n",
       "1      186      302       3  891717742\n",
       "2       22      377       1  878887116\n",
       "3      244       51       2  880606923\n",
       "4      166      346       1  886397596"
      ]
     },
     "execution_count": 3,
     "metadata": {},
     "output_type": "execute_result"
    }
   ],
   "source": [
    "# Load MovieLens 100K dataset\n",
    "ratings = pd.read_csv('../data/u.data', sep='\\t', names=['user_id', 'item_id', 'rating', 'timestamp'])\n",
    "\n",
    "# Display sample of data\n",
    "ratings.head()\n"
   ]
  },
  {
   "cell_type": "code",
   "execution_count": 5,
   "id": "9e8f9b7a",
   "metadata": {},
   "outputs": [],
   "source": [
    "# Pivot table: users as rows, items as columns\n",
    "user_item_matrix = ratings.pivot_table(index='user_id', columns='item_id', values='rating')\n",
    "\n",
    "# Fill missing values with 0 (unrated)\n",
    "user_item_matrix.fillna(0, inplace=True)\n"
   ]
  },
  {
   "cell_type": "code",
   "execution_count": 6,
   "id": "f2d7633e",
   "metadata": {},
   "outputs": [],
   "source": [
    "# Transpose so each row is an item\n",
    "item_user_matrix = user_item_matrix.T\n",
    "\n",
    "# Compute cosine similarity between items\n",
    "item_similarity = cosine_similarity(item_user_matrix)\n",
    "\n",
    "# Store as DataFrame for easier access\n",
    "item_similarity_df = pd.DataFrame(item_similarity, index=item_user_matrix.index, columns=item_user_matrix.index)\n"
   ]
  },
  {
   "cell_type": "code",
   "execution_count": 7,
   "id": "b66415f4",
   "metadata": {},
   "outputs": [],
   "source": [
    "def get_similar_items(item_id, top_n=5):\n",
    "    # Sort item similarity scores in descending order\n",
    "    similar_scores = item_similarity_df[item_id].sort_values(ascending=False)[1:top_n+1]\n",
    "    return similar_scores\n"
   ]
  },
  {
   "cell_type": "code",
   "execution_count": 8,
   "id": "a6cc677c",
   "metadata": {},
   "outputs": [
    {
     "data": {
      "text/plain": [
       "item_id\n",
       "181    0.884476\n",
       "174    0.764885\n",
       "172    0.749819\n",
       "1      0.734572\n",
       "127    0.697332\n",
       "Name: 50, dtype: float64"
      ]
     },
     "execution_count": 8,
     "metadata": {},
     "output_type": "execute_result"
    }
   ],
   "source": [
    "get_similar_items(item_id=50, top_n=5)\n"
   ]
  },
  {
   "cell_type": "code",
   "execution_count": 9,
   "id": "736eb3ea",
   "metadata": {},
   "outputs": [],
   "source": [
    "def recommend_items_for_user(user_id, top_n=5):\n",
    "    user_ratings = user_item_matrix.loc[user_id]\n",
    "    rated_items = user_ratings[user_ratings > 0].index.tolist()\n",
    "\n",
    "    scores = {}\n",
    "    for item in rated_items:\n",
    "        similar_items = get_similar_items(item, top_n=top_n)\n",
    "        for sim_item, score in similar_items.items():\n",
    "            if sim_item not in rated_items:\n",
    "                scores[sim_item] = scores.get(sim_item, 0) + score\n",
    "\n",
    "    # Sort and return top-N recommendations\n",
    "    recommended = sorted(scores.items(), key=lambda x: x[1], reverse=True)[:top_n]\n",
    "    return [item for item, score in recommended]\n"
   ]
  },
  {
   "cell_type": "code",
   "execution_count": 10,
   "id": "67c89f1c",
   "metadata": {},
   "outputs": [
    {
     "data": {
      "text/plain": [
       "[748, 322, 1612, 1293, 301]"
      ]
     },
     "execution_count": 10,
     "metadata": {},
     "output_type": "execute_result"
    }
   ],
   "source": [
    "recommend_items_for_user(user_id=100, top_n=5)\n"
   ]
  }
 ],
 "metadata": {
  "kernelspec": {
   "display_name": "base",
   "language": "python",
   "name": "python3"
  },
  "language_info": {
   "codemirror_mode": {
    "name": "ipython",
    "version": 3
   },
   "file_extension": ".py",
   "mimetype": "text/x-python",
   "name": "python",
   "nbconvert_exporter": "python",
   "pygments_lexer": "ipython3",
   "version": "3.12.3"
  }
 },
 "nbformat": 4,
 "nbformat_minor": 5
}
